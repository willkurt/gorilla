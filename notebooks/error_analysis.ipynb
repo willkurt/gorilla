{
 "cells": [
  {
   "cell_type": "code",
   "execution_count": 2,
   "id": "7c2d3b1c-33be-4ef4-8a79-59c516493151",
   "metadata": {
    "execution": {
     "iopub.execute_input": "2024-06-07T18:29:22.641334Z",
     "iopub.status.busy": "2024-06-07T18:29:22.640710Z",
     "iopub.status.idle": "2024-06-07T18:29:22.646479Z",
     "shell.execute_reply": "2024-06-07T18:29:22.645508Z",
     "shell.execute_reply.started": "2024-06-07T18:29:22.641299Z"
    }
   },
   "outputs": [],
   "source": [
    "import json"
   ]
  },
  {
   "cell_type": "markdown",
   "id": "812fee1e-5ebc-4c0b-bdd6-12fc5bc9cff9",
   "metadata": {},
   "source": [
    "Let's explore where Phi-3 + .txt got answers right that GPT-4 got wrong.\n",
    "\n",
    "We'll start by loading the results and answers for GPT-4..."
   ]
  },
  {
   "cell_type": "code",
   "execution_count": 17,
   "id": "dec89890-c8ed-4153-9ace-54a69cff96a3",
   "metadata": {
    "execution": {
     "iopub.execute_input": "2024-06-07T18:37:57.438370Z",
     "iopub.status.busy": "2024-06-07T18:37:57.437877Z",
     "iopub.status.idle": "2024-06-07T18:37:57.449452Z",
     "shell.execute_reply": "2024-06-07T18:37:57.448654Z",
     "shell.execute_reply.started": "2024-06-07T18:37:57.438337Z"
    }
   },
   "outputs": [],
   "source": [
    "with open(\"../berkeley-function-call-leaderboard/score/gpt-4-0125-preview/simple_score.json\") as fin:\n",
    "    gpt4_results = []\n",
    "    for line in fin.readlines():\n",
    "        gpt4_results.append(json.loads(line))\n",
    "    # skip the first one\n",
    "    gpt4_results = gpt4_results[1:]\n",
    "\n",
    "with open(\"../berkeley-function-call-leaderboard/result/gpt-4-0125-preview/gorilla_openfunctions_v1_test_simple_result.json\") as fin:\n",
    "    gpt4_answers = []\n",
    "    for line in fin.readlines():\n",
    "        gpt4_answers.append(json.loads(line))"
   ]
  },
  {
   "cell_type": "markdown",
   "id": "597331eb-f71f-48a0-b958-a77dc8977108",
   "metadata": {},
   "source": [
    "Then do the same go for Phi-3 + .txt"
   ]
  },
  {
   "cell_type": "code",
   "execution_count": 18,
   "id": "de626f5a-34e3-449f-8b18-44cb4a69e373",
   "metadata": {
    "execution": {
     "iopub.execute_input": "2024-06-07T18:38:39.353772Z",
     "iopub.status.busy": "2024-06-07T18:38:39.353104Z",
     "iopub.status.idle": "2024-06-07T18:38:39.365768Z",
     "shell.execute_reply": "2024-06-07T18:38:39.364968Z",
     "shell.execute_reply.started": "2024-06-07T18:38:39.353731Z"
    }
   },
   "outputs": [],
   "source": [
    "with open(\"../berkeley-function-call-leaderboard/score/phi3-med4k-outlines/simple_score.json\") as fin:\n",
    "    phi3_struct_results = []\n",
    "    for line in fin.readlines():\n",
    "        phi3_struct_results.append(json.loads(line))\n",
    "    phi3_struct_results = phi3_struct_results[1:]\n",
    "\n",
    "with open(\"../berkeley-function-call-leaderboard/result/phi3-med4k-outlines/gorilla_openfunctions_v1_test_simple_result.json\") as fin:\n",
    "    phi3_struct_answers = []\n",
    "    for line in fin.readlines():\n",
    "        phi3_struct_answers.append(json.loads(line))"
   ]
  },
  {
   "cell_type": "markdown",
   "id": "78c9f13b-55ad-479c-9cf3-2f1edc23225c",
   "metadata": {},
   "source": [
    "load the questions..."
   ]
  },
  {
   "cell_type": "code",
   "execution_count": 19,
   "id": "2cabfe8f-ae32-4043-acd6-fdfd001299fc",
   "metadata": {
    "execution": {
     "iopub.execute_input": "2024-06-07T18:38:41.289526Z",
     "iopub.status.busy": "2024-06-07T18:38:41.288883Z",
     "iopub.status.idle": "2024-06-07T18:38:41.316083Z",
     "shell.execute_reply": "2024-06-07T18:38:41.315601Z",
     "shell.execute_reply.started": "2024-06-07T18:38:41.289486Z"
    }
   },
   "outputs": [],
   "source": [
    "questions = []\n",
    "with open(\"../berkeley-function-call-leaderboard/data/gorilla_openfunctions_v1_test_simple.json\") as fin:\n",
    "    for line in fin.readlines():\n",
    "        questions.append(json.loads(line))"
   ]
  },
  {
   "cell_type": "markdown",
   "id": "c4860229-44a6-473e-80ce-b2e8276d543b",
   "metadata": {},
   "source": [
    "... and finally inspect the cases!"
   ]
  },
  {
   "cell_type": "code",
   "execution_count": 30,
   "id": "557c9d8c-450a-41e5-ba25-1fed0c5b2f00",
   "metadata": {
    "execution": {
     "iopub.execute_input": "2024-06-07T18:42:10.477712Z",
     "iopub.status.busy": "2024-06-07T18:42:10.477071Z",
     "iopub.status.idle": "2024-06-07T18:42:10.488762Z",
     "shell.execute_reply": "2024-06-07T18:42:10.488053Z",
     "shell.execute_reply.started": "2024-06-07T18:42:10.477677Z"
    }
   },
   "outputs": [
    {
     "name": "stdout",
     "output_type": "stream",
     "text": [
      "Question: Find the prime factors of 450\n",
      "-------\n",
      "GPT-4 answer (incorrect): [get_prime_factors(number=450, formatted=False)]\n",
      "Phi-3 answer (correct): [get_prime_factors(number=450, formatted=True)]\n",
      "\n",
      "\n",
      "\n",
      "Question: Find the boiling point and melting point of water under the sea level of 5000m.\n",
      "-------\n",
      "GPT-4 answer (incorrect): [get_boiling_melting_points(substance='water', sea_level=-5000)]\n",
      "Phi-3 answer (correct): [get_boiling_melting_points(substance=\"water\", sea_level=5000)]\n",
      "\n",
      "\n",
      "\n",
      "Question: Calculate the average of list of integers [12, 15, 18, 20, 21, 26, 30].\n",
      "-------\n",
      "GPT-4 answer (incorrect): [calculate_average(numbers=[12, 15, 18, 20, 21, 26, 30])]\n",
      "Phi-3 answer (correct): [calculate_average(numbers=[12.0, 15.0, 18.0, 20.0, 21.0, 26.0, 30.0])]\n",
      "\n",
      "\n",
      "\n",
      "Question: Sort the list [5, 3, 4, 1, 2] in ascending order.\n",
      "-------\n",
      "GPT-4 answer (incorrect): [array_sort(list=[5, 3, 4, 1, 2], order=\"ascending\")]\n",
      "Phi-3 answer (correct): [array_sort(list=[5.0, 3.0, 4.0, 1.0, 2.0], order=\"ascending\")]\n",
      "\n",
      "\n",
      "\n",
      "Question: Plot a sine wave from 0 to 2 pi with a frequency of 5 Hz.\n",
      "-------\n",
      "GPT-4 answer (incorrect): [plot_sine_wave(start_range=0, end_range=6.2832, frequency=5)]\n",
      "Phi-3 answer (correct): [plot_sine_wave(start_range=0.0, end_range=6.2832, frequency=5, amplitude=1, phase_shift=0)]\n",
      "\n",
      "\n",
      "\n",
      "Question: Calculate the area under the curve y=3x^2 + 2x - 4, between x = -1 and x = 2.\n",
      "-------\n",
      "GPT-4 answer (incorrect): [mathematics.calculate_area_under_curve(polynomial=[3, 2, -4], limits=[-1, 2])]\n",
      "Phi-3 answer (correct): [mathematics.calculate_area_under_curve(polynomial=[3.0, 2.0, -4.0], limits=[-1.0, 2.0])]\n",
      "\n",
      "\n",
      "\n",
      "Question: Predict the total expected profit of stocks XYZ in 5 years given I have invested $5000 and annual return rate is 7%.\n",
      "-------\n",
      "GPT-4 answer (incorrect): [investment.predictProfit(investment_amount=5000, annual_return=7.0, years=5)]\n",
      "Phi-3 answer (correct): [investment.predictProfit(investment_amount=5000, annual_return=0.07, years=5)]\n",
      "\n",
      "\n",
      "\n",
      "Question: Calculate the return on investment for a stock bought at $20, sold at $25, with a dividend of $2.\n",
      "-------\n",
      "GPT-4 answer (incorrect): [calculate_return_on_investment(purchase_price=20, sale_page=25, dividend=2)]\n",
      "Phi-3 answer (correct): [calculate_return_on_investment(purchase_price=20, sale_price=25, dividend=2)]\n",
      "\n",
      "\n",
      "\n",
      "Question: 'Get stock price of Apple for the last 5 days in NASDAQ.'\n",
      "-------\n",
      "GPT-4 answer (incorrect): [get_stock_price(company='Apple', days=5, exchange='NASDAQ')]\n",
      "Phi-3 answer (correct): [get_stock_price(company=\"AAPL\", days=5, exchange=\"NASDAQ\")]\n",
      "\n",
      "\n",
      "\n",
      "Question: Calculate the compounded interest for an initial principal of $5000, annual interest rate of 5%, and compounding period of 10 years.\n",
      "-------\n",
      "GPT-4 answer (incorrect): [calculate_compounded_interest(principal=5000, interest_rate=5.0, period=10)]\n",
      "Phi-3 answer (correct): [calculate_compounded_interest(principal=5000, interest_rate=0.05, period=10)]\n",
      "\n",
      "\n",
      "\n",
      "Question: Calculate the return of investment of a bank's savings account with a deposit of $1000, annual interest rate of 3% for 1 year.\n",
      "-------\n",
      "GPT-4 answer (incorrect): [calculate_roi(deposit=1000, annual_interest_rate=3.0, years=1)]\n",
      "Phi-3 answer (correct): [calculate_roi(deposit=1000, annual_interest_rate=0.03, years=1)]\n",
      "\n",
      "\n",
      "\n",
      "Question: Find the highest grossing bank in the U.S for year 2020.\n",
      "-------\n",
      "GPT-4 answer (incorrect): [highest_grossing_banks(country=\"U.S\", year=2020)]\n",
      "Phi-3 answer (correct): [highest_grossing_banks(country=\"U.S\", year=2020, top_n=1)]\n",
      "\n",
      "\n",
      "\n",
      "Question: Search for upcoming month rock concerts in New York.\n",
      "-------\n",
      "GPT-4 answer (incorrect): [event_finder.find_upcoming(location=\"New York, NY\", genre=\"rock\")]\n",
      "Phi-3 answer (correct): [event_finder.find_upcoming(location=\"New York, NY\", genre=\"rock\", days_ahead=30)]\n",
      "\n",
      "\n",
      "\n",
      "Question: Find the working hours and ticket price of The British Museum for this weekend.\n",
      "-------\n",
      "GPT-4 answer (incorrect): [museum_info(museum=\"The British Museum\", date=\"this weekend\")]\n",
      "Phi-3 answer (correct): [museum_info(museum=\"The British Museum\", date=\"this weekend\", information=['opening_hours', 'ticket_price'])]\n",
      "\n",
      "\n",
      "\n",
      "Question: Who is ranked as the top player in woman tennis?\n",
      "-------\n",
      "GPT-4 answer (incorrect): [sports_ranking.get_top_player(sport='tennis', gender='woman')]\n",
      "Phi-3 answer (correct): [sports_ranking.get_top_player(sport=\"tennis\", gender=\"women\")]\n",
      "\n",
      "\n",
      "\n",
      "Question: Find me a recipe that serves 2 people, is vegan, and takes under 30 minutes to prepare.\n",
      "-------\n",
      "GPT-4 answer (incorrect): [recipe_finder.find(servings=2, diet='vean', prep_time=30)]\n",
      "Phi-3 answer (correct): [recipe_finder.find(servings=2, diet=\"vegan\", prep_time=30)]\n",
      "\n",
      "\n",
      "\n",
      "Question: Give me a recipe for a vegetarian pasta with cheese for 2 servings.\n",
      "-------\n",
      "GPT-4 answer (incorrect): [recipe_search(dietary_restriction='Vegetarian', ingredients=['cheese', 'pasta'], servings=2)]\n",
      "Phi-3 answer (correct): [recipe_search(dietary_restriction=\"Vegetarian\", ingredients=['pasta', 'cheese'], servings=2)]\n",
      "\n",
      "\n",
      "\n",
      "Question: Order three bottles of olive oil and a five pound bag of rice from Safeway in Palo Alto.\n",
      "-------\n",
      "GPT-4 answer (incorrect): [safeway.order(location=\"Palo Alto\", items=[\"olive oil\", \"five pound bag of rice\"], quantity=[3, 1])]\n",
      "Phi-3 answer (correct): [safeway.order(location=\"Palo Alto, CA\", items=['olive oil', 'rice'], quantity=[3, 1])]\n",
      "\n",
      "\n",
      "\n"
     ]
    }
   ],
   "source": [
    "gpt4_ids = [result['id'] for result in gpt4_results]\n",
    "phi3_struct_ids = [result['id'] for result in phi3_struct_results]\n",
    "\n",
    "# Ids are 1 indexed\n",
    "gpt4_wrong_phi3_correct = [id - 1 \n",
    "                           for id in gpt4_ids\n",
    "                           if not (id in phi3_struct_ids)]\n",
    "\n",
    "for i in gpt4_wrong_phi3_correct:\n",
    "    print(f\"Question: {questions[i]['question']}\")\n",
    "    print(\"-------\")\n",
    "    print(f\"GPT-4 answer (incorrect): {gpt4_answers[i]['result']}\")\n",
    "    print(f\"Phi-3 answer (correct): {phi3_struct_answers[i]['result']}\")\n",
    "    print(f\"\\n\\n\")"
   ]
  },
  {
   "cell_type": "code",
   "execution_count": 31,
   "id": "964d6349-4dbe-4f5a-9011-3b937c2a7247",
   "metadata": {
    "execution": {
     "iopub.execute_input": "2024-06-07T18:53:51.675144Z",
     "iopub.status.busy": "2024-06-07T18:53:51.674520Z",
     "iopub.status.idle": "2024-06-07T18:53:51.684603Z",
     "shell.execute_reply": "2024-06-07T18:53:51.683534Z",
     "shell.execute_reply.started": "2024-06-07T18:53:51.675109Z"
    }
   },
   "outputs": [
    {
     "name": "stdout",
     "output_type": "stream",
     "text": [
      "Question: What is the change in entropy in Joules per Kelvin of a 1kg ice block at 0°C if it is heated to 100°C under 1 atmosphere of pressure?\n",
      "-------\n",
      "GPT-4 answer (correct): [entropy_change.calculate(substance='ice', mass=1, initial_temperature=0, final_temperature=100)]\n",
      "Phi-3 answer (incorrect): [entropy_change.calculate(substance=\"water\", mass=1, initial_temperature=0, final_temperature=100, pressure=1)]\n",
      "\n",
      "\n",
      "\n",
      "Question: Find a nearby restaurant that serves vegan food in Los Angeles.\n",
      "-------\n",
      "GPT-4 answer (correct): [restaurant.find_nearby(location=\"Los Angeles, CA\", dietary_preference=[\"Vegan\"])]\n",
      "Phi-3 answer (incorrect): [restaurant.find_nearby(location=\"Los Angeles\", dietary_preference=['Vegan'])]\n",
      "\n",
      "\n",
      "\n",
      "Question: Perform a Chi-Squared test for independence on a 2x2 contingency table [ [10, 20], [30, 40] ]\n",
      "-------\n",
      "GPT-4 answer (correct): [chi_squared_test(table=[[10, 20], [30, 40]])]\n",
      "Phi-3 answer (incorrect): [chi_squared_test(table=[10, 20, 30, 40], alpha=0.05)]\n",
      "\n",
      "\n",
      "\n",
      "Question: Find the information of criminal cases of Mr. X in New York between 2012 and 2015.\n",
      "-------\n",
      "GPT-4 answer (correct): [get_criminal_records(name=\"Mr. X\", location=\"New York, NY\", from_year=2012, to_year=2015)]\n",
      "Phi-3 answer (incorrect): [get_criminal_records(name=\"Mr. X\", location=\"New York\", from_year=2012, to_year=2015)]\n",
      "\n",
      "\n",
      "\n",
      "Question: Find a lawyer specializing in divorce cases and charge fee less than 400 dollars per hour in Chicago.\n",
      "-------\n",
      "GPT-4 answer (correct): [lawyer.find_nearby(city=\"Chicago, IL\", specialty=[\"Divorce\"], fee=400)]\n",
      "Phi-3 answer (incorrect): [lawyer.find_nearby(city=\"Chicago\", specialty=['Divorce'], fee=400)]\n",
      "\n",
      "\n",
      "\n",
      "Question: Search for current lawsuits filed against Apple in Santa Clara County.\n",
      "-------\n",
      "GPT-4 answer (correct): [lawsuit_search(entity=\"Apple\", county=\"Santa Clara County\")]\n",
      "Phi-3 answer (incorrect): [lawsuit_search(entity=\"Apple\", county=\"Santa Clara\")]\n",
      "\n",
      "\n",
      "\n",
      "Question: Analyze the sentiment of a customer review 'I love the food here! It's always fresh and delicious.'.\n",
      "-------\n",
      "GPT-4 answer (correct): [sentiment_analysis(text='I love the food here! It\\'s always fresh and delicious.', language='en')]\n",
      "Phi-3 answer (incorrect): [sentiment_analysis(text=\"I love the food here! It's always fresh, t\", language=\"en\")]\n",
      "\n",
      "\n",
      "\n",
      "Question: What's the retail price of a Fender American Professional II Stratocaster in Rosewood Finish?\n",
      "-------\n",
      "GPT-4 answer (correct): [instrument_price.get(brand=\"Fender\", model=\"American Professional II Stratocaster\", finish=\"Rosewood\")]\n",
      "Phi-3 answer (incorrect): [instrument_price.get(brand=\"Fender\", model=\"American Professional II Stratocaster\", finish=\"Rosewood Finish\")]\n",
      "\n",
      "\n",
      "\n",
      "Question: Find a Card of rank 'Queen' and suit 'Hearts' in the deck.\n",
      "-------\n",
      "GPT-4 answer (correct): [find_card_in_deck(rank='Queen', suit='Hearts')]\n",
      "Phi-3 answer (incorrect): [find_card_in_deck(rank=\"Queen\", suit=\"Hearts\", deck=[{'rank': 'Ace', 'suit': 'Hearts'}, {'rank': 'Two', 'suit': 'Hearts'}, {'rank': 'Three', 'suit': 'Hearts'}, {'rank': 'Four', 'suit': 'Hearts'}, {'rank': 'Five', 'suit': 'Hearts'}, {'rank': 'Six', 'suit': 'Hearts'}, {'rank': 'Seven', 'suit': 'Hearts'}, {'rank': 'Eight', 'suit': 'Hearts'}, {'rank': 'Nine', 'suit': 'Hearts'}])]\n",
      "\n",
      "\n",
      "\n",
      "Question: In a texas holdem game, Who won in the poker game with players Alex, Sam, Robert and Steve given the cards Alex':['A of spades', 'K of spades'], 'Sam': ['2 of diamonds', '3 of clubs'], 'Robert': ['Q of hearts', '10 of hearts'], 'Steve': ['4 of spades', '5 of spades']?\n",
      "-------\n",
      "GPT-4 answer (correct): [poker_game_winner(players=['Alex', 'Sam', 'Robert', 'Steve'], cards={'Alex': ['A of spades', 'K of spades'], 'Sam': ['2 of diamonds', '3 of clubs'], 'Robert': ['Q of hearts', '10 of hearts'], 'Steve': ['4 of spades', '5 of spades']})]\n",
      "Phi-3 answer (incorrect): [error.message(error=\"KeyError\", result=None)]\n",
      "\n",
      "\n",
      "\n",
      "Question: Find a vegan soup recipe that takes under 30 minutes to make.\n",
      "-------\n",
      "GPT-4 answer (correct): [get_vegan_recipe(dish_type=\"soup\", cooking_time=30)]\n",
      "Phi-3 answer (incorrect): [get_vegan_recipe(dish_type=\"soup\", cooking_time=30, ingredient_preference=['vegan'])]\n",
      "\n",
      "\n",
      "\n"
     ]
    }
   ],
   "source": [
    "gpt4_ids = [result['id'] for result in gpt4_results]\n",
    "phi3_struct_ids = [result['id'] for result in phi3_struct_results]\n",
    "\n",
    "# Ids are 1 indexed\n",
    "gpt4_correct_phi3_wrong = [id - 1 \n",
    "                           for id in phi3_struct_ids\n",
    "                           if not (id in gpt4_ids)]\n",
    "\n",
    "for i in gpt4_correct_phi3_wrong:\n",
    "    print(f\"Question: {questions[i]['question']}\")\n",
    "    print(\"-------\")\n",
    "    print(f\"GPT-4 answer (correct): {gpt4_answers[i]['result']}\")\n",
    "    print(f\"Phi-3 answer (incorrect): {phi3_struct_answers[i]['result']}\")\n",
    "    print(f\"\\n\\n\")"
   ]
  }
 ],
 "metadata": {
  "kernelspec": {
   "display_name": "Python 3 (ipykernel)",
   "language": "python",
   "name": "python3"
  },
  "language_info": {
   "codemirror_mode": {
    "name": "ipython",
    "version": 3
   },
   "file_extension": ".py",
   "mimetype": "text/x-python",
   "name": "python",
   "nbconvert_exporter": "python",
   "pygments_lexer": "ipython3",
   "version": "3.10.0"
  }
 },
 "nbformat": 4,
 "nbformat_minor": 5
}
